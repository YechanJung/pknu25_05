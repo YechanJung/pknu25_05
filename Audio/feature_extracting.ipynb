{
 "cells": [
  {
   "cell_type": "code",
   "execution_count": 3,
   "metadata": {},
   "outputs": [],
   "source": [
    "import pandas as pd\n",
    "from dotenv import load_dotenv\n",
    "from intensity import extract_complete_trajectory_features\n",
    "import os\n",
    "from mp4_noise_reducer import noise_reduce_mp4\n",
    "from gender_classifier import classify_gender\n",
    "load_dotenv()\n",
    "data_dir = os.getenv(\"DATA_DIR\")"
   ]
  },
  {
   "cell_type": "markdown",
   "metadata": {},
   "source": []
  },
  {
   "cell_type": "markdown",
   "metadata": {},
   "source": [
    "Data_processing"
   ]
  },
  {
   "cell_type": "code",
   "execution_count": null,
   "metadata": {},
   "outputs": [],
   "source": [
    "data_df = pd.read_csv(data_dir+\"/train/train_sent_emo.csv\")\n",
    "train_data_dir = data_dir+\"/train/train_splits/\""
   ]
  },
  {
   "cell_type": "code",
   "execution_count": null,
   "metadata": {},
   "outputs": [],
   "source": [
    "# enhanced, sr = noise_reduce_mp4(data_dir+\"/train/train_splits/dia0_utt3.mp4\")\n",
    "# Sr No.,Utterance,Speaker,Emotion,Sentiment,Dialogue_ID,Utterance_ID,Season,Episode,StartTime,EndTime\n",
    "df = pd.DataFrame()\n",
    "train_df = data_df[data_df['emotion']==\"joy\"]\n",
    "\n",
    "for row in range(len(train_df)):\n",
    "    video_path  = train_data_dir+\"dia\"+train_df.iloc[row]['Dialogue_ID']+\"_utt\"+train_df.iloc[row]['Utterance_ID']+\".mp4\"\n",
    "    enhanced, sr = noise_reduce_mp4(video_path)\n",
    "    classify_gender(enhanced, sr)\n",
    "    extract_complete_trajectory_features(enhanced, sr)\n",
    "    df.\n"
   ]
  }
 ],
 "metadata": {
  "kernelspec": {
   "display_name": "dl",
   "language": "python",
   "name": "python3"
  },
  "language_info": {
   "codemirror_mode": {
    "name": "ipython",
    "version": 3
   },
   "file_extension": ".py",
   "mimetype": "text/x-python",
   "name": "python",
   "nbconvert_exporter": "python",
   "pygments_lexer": "ipython3",
   "version": "3.9.20"
  }
 },
 "nbformat": 4,
 "nbformat_minor": 2
}
