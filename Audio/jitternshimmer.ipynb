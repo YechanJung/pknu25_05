{
 "cells": [
  {
   "cell_type": "code",
   "execution_count": 1,
   "id": "2d3532eb",
   "metadata": {},
   "outputs": [
    {
     "name": "stdout",
     "output_type": "stream",
     "text": [
      "Collecting praat-parselmouth\n",
      "  Downloading praat_parselmouth-0.4.6-cp39-cp39-macosx_11_0_arm64.whl.metadata (2.9 kB)\n",
      "Requirement already satisfied: numpy>=1.7.0 in /Users/jung-yechan/.pyenv/versions/3.9.20/envs/dl/lib/python3.9/site-packages (from praat-parselmouth) (1.26.4)\n",
      "Downloading praat_parselmouth-0.4.6-cp39-cp39-macosx_11_0_arm64.whl (8.7 MB)\n",
      "\u001b[2K   \u001b[90m━━━━━━━━━━━━━━━━━━━━━━━━━━━━━━━━━━━━━━━━\u001b[0m \u001b[32m8.7/8.7 MB\u001b[0m \u001b[31m4.3 MB/s\u001b[0m eta \u001b[36m0:00:00\u001b[0ma \u001b[36m0:00:01\u001b[0m\n",
      "\u001b[?25hInstalling collected packages: praat-parselmouth\n",
      "Successfully installed praat-parselmouth-0.4.6\n",
      "\n",
      "\u001b[1m[\u001b[0m\u001b[34;49mnotice\u001b[0m\u001b[1;39;49m]\u001b[0m\u001b[39;49m A new release of pip is available: \u001b[0m\u001b[31;49m25.1.1\u001b[0m\u001b[39;49m -> \u001b[0m\u001b[32;49m25.2\u001b[0m\n",
      "\u001b[1m[\u001b[0m\u001b[34;49mnotice\u001b[0m\u001b[1;39;49m]\u001b[0m\u001b[39;49m To update, run: \u001b[0m\u001b[32;49mpip install --upgrade pip\u001b[0m\n"
     ]
    }
   ],
   "source": [
    "!pip install praat-parselmouth"
   ]
  },
  {
   "cell_type": "code",
   "execution_count": 4,
   "id": "5c627c65",
   "metadata": {},
   "outputs": [],
   "source": [
    "import parselmouth\n",
    "import os\n",
    "import sys\n",
    "\n",
    "# Load the sound file\n",
    "try:\n",
    "    sound = parselmouth.Sound(\"noise_evaluation/enhanced.wav\")\n",
    "except parselmouth.PraatError as e:\n",
    "    print(f\"Error loading sound file: {e}\")\n",
    "    # Handle the error, e.g., by exiting the script\n",
    "    exit()"
   ]
  },
  {
   "cell_type": "code",
   "execution_count": 8,
   "id": "205410fe",
   "metadata": {},
   "outputs": [
    {
     "name": "stdout",
     "output_type": "stream",
     "text": [
      "Object type: PointProcess\n",
      "Object name: untitled\n",
      "Date: Tue Aug 26 16:39:44 2025\n",
      "\n",
      "Time domain:\n",
      "   Start time: 0 seconds\n",
      "   End time: 2.75 seconds\n",
      "   Total duration: 2.75 seconds\n",
      "Number of times: 201\n",
      "First time: 0.3468144227241649 seconds\n",
      "Last time: 2.0539209686316457 seconds\n",
      "Periods between 0.1 ms and 20 ms (pitch between 50 and 10000 Hz),\n",
      "with a maximum \"period factor\" of 1.3:\n",
      "     Number of periods: 194\n",
      "     Mean period: 0.006325137148004247 seconds\n",
      "     Stdev period: 0.002289636973177165 seconds\n",
      "     Jitter (local): 2.091%\n",
      "     Jitter (local, absolute): 132.243E-6 seconds\n",
      "     Jitter (rap): 0.498%\n",
      "     Jitter (ppq5): 1.013%\n",
      "     Jitter (ddp): 1.494%\n",
      "All periods:\n",
      "     Number of periods: 200\n",
      "     Mean period: 0.008535532729537405 seconds\n",
      "     Stdev period: 0.01574510850254077 seconds\n",
      "     Jitter (local): 53.937230%\n",
      "     Jitter (local, absolute): 4603.829894E-6 seconds\n",
      "     Jitter (rap): 35.517465%\n",
      "     Jitter (ppq5): 43.005551%\n",
      "     Jitter (ddp): 106.552394%\n",
      "\n"
     ]
    }
   ],
   "source": [
    "# Create a pitch object\n",
    "# You might need to adjust the pitch floor and ceiling based on the speaker's voice\n",
    "pitch = sound.to_pitch(pitch_floor=75.0, pitch_ceiling=600.0)\n",
    "# print(pitch)\n",
    "\n",
    "# Create a PointProcess from the pitch object\n",
    "point_process = parselmouth.praat.call(pitch, \"To PointProcess\")\n",
    "print(point_process)"
   ]
  },
  {
   "cell_type": "code",
   "execution_count": 9,
   "id": "cddc6a56",
   "metadata": {},
   "outputs": [],
   "source": [
    "# Calculate jitter\n",
    "jitter_local = parselmouth.praat.call(point_process, \"Get jitter (local)\", 0.0, 0.0, 0.0001, 0.02, 1.3)\n",
    "jitter_local_absolute = parselmouth.praat.call(point_process, \"Get jitter (local, absolute)\", 0.0, 0.0, 0.0001, 0.02, 1.3)\n",
    "jitter_rap = parselmouth.praat.call(point_process, \"Get jitter (rap)\", 0.0, 0.0, 0.0001, 0.02, 1.3)\n",
    "jitter_ppq5 = parselmouth.praat.call(point_process, \"Get jitter (ppq5)\", 0.0, 0.0, 0.0001, 0.02, 1.3)"
   ]
  },
  {
   "cell_type": "code",
   "execution_count": 10,
   "id": "8b8a5439",
   "metadata": {},
   "outputs": [
    {
     "data": {
      "text/plain": [
       "0.020907464513434754"
      ]
     },
     "execution_count": 10,
     "metadata": {},
     "output_type": "execute_result"
    }
   ],
   "source": [
    "jitter_local"
   ]
  },
  {
   "cell_type": "code",
   "execution_count": 13,
   "id": "8b789590",
   "metadata": {},
   "outputs": [],
   "source": [
    "# Calculate shimmer\n",
    "shimmer_local = parselmouth.praat.call([sound, point_process], \"Get shimmer (local)\", 0.0, 0.0, 0.0001, 0.02, 1.3, 1.6)\n",
    "# shimmer_local_db = parselmouth.praat.call([sound, point_process], \"Get shimmer (local, dB)\", 0.0, 0.0, 0.0001, 0.02, 1.3, 1.6)\n",
    "shimmer_apq3 = parselmouth.praat.call([sound, point_process], \"Get shimmer (apq3)\", 0.0, 0.0, 0.0001, 0.02, 1.3, 1.6)\n",
    "shimmer_apq5 = parselmouth.praat.call([sound, point_process], \"Get shimmer (apq5)\", 0.0, 0.0, 0.0001, 0.02, 1.3, 1.6)"
   ]
  },
  {
   "cell_type": "code",
   "execution_count": 14,
   "id": "aa246e15",
   "metadata": {},
   "outputs": [
    {
     "data": {
      "text/plain": [
       "0.1751599494265534"
      ]
     },
     "execution_count": 14,
     "metadata": {},
     "output_type": "execute_result"
    }
   ],
   "source": [
    "shimmer_local"
   ]
  },
  {
   "cell_type": "code",
   "execution_count": null,
   "id": "eb0b374d",
   "metadata": {},
   "outputs": [],
   "source": []
  }
 ],
 "metadata": {
  "kernelspec": {
   "display_name": "dl",
   "language": "python",
   "name": "python3"
  },
  "language_info": {
   "codemirror_mode": {
    "name": "ipython",
    "version": 3
   },
   "file_extension": ".py",
   "mimetype": "text/x-python",
   "name": "python",
   "nbconvert_exporter": "python",
   "pygments_lexer": "ipython3",
   "version": "3.9.20"
  }
 },
 "nbformat": 4,
 "nbformat_minor": 5
}
